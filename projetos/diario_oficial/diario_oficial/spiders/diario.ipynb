{
 "cells": [
  {
   "cell_type": "code",
   "execution_count": 1,
   "metadata": {},
   "outputs": [
    {
     "name": "stdout",
     "output_type": "stream",
     "text": [
      "Requirement already satisfied: scrapy-selenium in /home/rfahham/projetos/web-scraping/venv/lib/python3.8/site-packages (0.0.7)\n",
      "Requirement already satisfied: selenium>=3.9.0 in /home/rfahham/projetos/web-scraping/venv/lib/python3.8/site-packages (from scrapy-selenium) (4.24.0)\n",
      "Requirement already satisfied: scrapy>=1.0.0 in /home/rfahham/projetos/web-scraping/venv/lib/python3.8/site-packages (from scrapy-selenium) (2.11.2)\n",
      "Requirement already satisfied: websocket-client~=1.8 in /home/rfahham/projetos/web-scraping/venv/lib/python3.8/site-packages (from selenium>=3.9.0->scrapy-selenium) (1.8.0)\n",
      "Requirement already satisfied: urllib3[socks]<3,>=1.26 in /home/rfahham/projetos/web-scraping/venv/lib/python3.8/site-packages (from selenium>=3.9.0->scrapy-selenium) (2.2.2)\n",
      "Requirement already satisfied: typing_extensions~=4.9 in /home/rfahham/projetos/web-scraping/venv/lib/python3.8/site-packages (from selenium>=3.9.0->scrapy-selenium) (4.12.2)\n",
      "Requirement already satisfied: certifi>=2021.10.8 in /home/rfahham/projetos/web-scraping/venv/lib/python3.8/site-packages (from selenium>=3.9.0->scrapy-selenium) (2024.8.30)\n",
      "Requirement already satisfied: trio~=0.17 in /home/rfahham/projetos/web-scraping/venv/lib/python3.8/site-packages (from selenium>=3.9.0->scrapy-selenium) (0.26.2)\n",
      "Requirement already satisfied: trio-websocket~=0.9 in /home/rfahham/projetos/web-scraping/venv/lib/python3.8/site-packages (from selenium>=3.9.0->scrapy-selenium) (0.11.1)\n",
      "Requirement already satisfied: parsel>=1.5.0 in /home/rfahham/projetos/web-scraping/venv/lib/python3.8/site-packages (from scrapy>=1.0.0->scrapy-selenium) (1.9.1)\n",
      "Requirement already satisfied: packaging in /home/rfahham/projetos/web-scraping/venv/lib/python3.8/site-packages (from scrapy>=1.0.0->scrapy-selenium) (24.1)\n",
      "Requirement already satisfied: lxml>=4.4.1 in /home/rfahham/projetos/web-scraping/venv/lib/python3.8/site-packages (from scrapy>=1.0.0->scrapy-selenium) (5.3.0)\n",
      "Requirement already satisfied: cssselect>=0.9.1 in /home/rfahham/projetos/web-scraping/venv/lib/python3.8/site-packages (from scrapy>=1.0.0->scrapy-selenium) (1.2.0)\n",
      "Requirement already satisfied: pyOpenSSL>=21.0.0 in /home/rfahham/projetos/web-scraping/venv/lib/python3.8/site-packages (from scrapy>=1.0.0->scrapy-selenium) (24.2.1)\n",
      "Requirement already satisfied: queuelib>=1.4.2 in /home/rfahham/projetos/web-scraping/venv/lib/python3.8/site-packages (from scrapy>=1.0.0->scrapy-selenium) (1.7.0)\n",
      "Requirement already satisfied: zope.interface>=5.1.0 in /home/rfahham/projetos/web-scraping/venv/lib/python3.8/site-packages (from scrapy>=1.0.0->scrapy-selenium) (7.0.3)\n",
      "Requirement already satisfied: service-identity>=18.1.0 in /home/rfahham/projetos/web-scraping/venv/lib/python3.8/site-packages (from scrapy>=1.0.0->scrapy-selenium) (24.1.0)\n",
      "Requirement already satisfied: itemadapter>=0.1.0 in /home/rfahham/projetos/web-scraping/venv/lib/python3.8/site-packages (from scrapy>=1.0.0->scrapy-selenium) (0.9.0)\n",
      "Requirement already satisfied: defusedxml>=0.7.1 in /home/rfahham/projetos/web-scraping/venv/lib/python3.8/site-packages (from scrapy>=1.0.0->scrapy-selenium) (0.7.1)\n",
      "Requirement already satisfied: Twisted>=18.9.0 in /home/rfahham/projetos/web-scraping/venv/lib/python3.8/site-packages (from scrapy>=1.0.0->scrapy-selenium) (24.7.0)\n",
      "Requirement already satisfied: PyDispatcher>=2.0.5; platform_python_implementation == \"CPython\" in /home/rfahham/projetos/web-scraping/venv/lib/python3.8/site-packages (from scrapy>=1.0.0->scrapy-selenium) (2.0.7)\n",
      "Requirement already satisfied: protego>=0.1.15 in /home/rfahham/projetos/web-scraping/venv/lib/python3.8/site-packages (from scrapy>=1.0.0->scrapy-selenium) (0.3.1)\n",
      "Requirement already satisfied: setuptools in /home/rfahham/projetos/web-scraping/venv/lib/python3.8/site-packages (from scrapy>=1.0.0->scrapy-selenium) (44.0.0)\n",
      "Requirement already satisfied: cryptography>=36.0.0 in /home/rfahham/projetos/web-scraping/venv/lib/python3.8/site-packages (from scrapy>=1.0.0->scrapy-selenium) (43.0.1)\n",
      "Requirement already satisfied: tldextract in /home/rfahham/projetos/web-scraping/venv/lib/python3.8/site-packages (from scrapy>=1.0.0->scrapy-selenium) (5.1.2)\n",
      "Requirement already satisfied: itemloaders>=1.0.1 in /home/rfahham/projetos/web-scraping/venv/lib/python3.8/site-packages (from scrapy>=1.0.0->scrapy-selenium) (1.3.1)\n",
      "Requirement already satisfied: w3lib>=1.17.0 in /home/rfahham/projetos/web-scraping/venv/lib/python3.8/site-packages (from scrapy>=1.0.0->scrapy-selenium) (2.2.1)\n",
      "Requirement already satisfied: pysocks!=1.5.7,<2.0,>=1.5.6; extra == \"socks\" in /home/rfahham/projetos/web-scraping/venv/lib/python3.8/site-packages (from urllib3[socks]<3,>=1.26->selenium>=3.9.0->scrapy-selenium) (1.7.1)\n",
      "Requirement already satisfied: sortedcontainers in /home/rfahham/projetos/web-scraping/venv/lib/python3.8/site-packages (from trio~=0.17->selenium>=3.9.0->scrapy-selenium) (2.4.0)\n",
      "Requirement already satisfied: outcome in /home/rfahham/projetos/web-scraping/venv/lib/python3.8/site-packages (from trio~=0.17->selenium>=3.9.0->scrapy-selenium) (1.3.0.post0)\n",
      "Requirement already satisfied: exceptiongroup; python_version < \"3.11\" in /home/rfahham/projetos/web-scraping/venv/lib/python3.8/site-packages (from trio~=0.17->selenium>=3.9.0->scrapy-selenium) (1.2.2)\n",
      "Requirement already satisfied: sniffio>=1.3.0 in /home/rfahham/projetos/web-scraping/venv/lib/python3.8/site-packages (from trio~=0.17->selenium>=3.9.0->scrapy-selenium) (1.3.1)\n",
      "Requirement already satisfied: attrs>=23.2.0 in /home/rfahham/projetos/web-scraping/venv/lib/python3.8/site-packages (from trio~=0.17->selenium>=3.9.0->scrapy-selenium) (24.2.0)\n",
      "Requirement already satisfied: idna in /home/rfahham/projetos/web-scraping/venv/lib/python3.8/site-packages (from trio~=0.17->selenium>=3.9.0->scrapy-selenium) (3.8)\n",
      "Requirement already satisfied: wsproto>=0.14 in /home/rfahham/projetos/web-scraping/venv/lib/python3.8/site-packages (from trio-websocket~=0.9->selenium>=3.9.0->scrapy-selenium) (1.2.0)\n",
      "Requirement already satisfied: jmespath in /home/rfahham/projetos/web-scraping/venv/lib/python3.8/site-packages (from parsel>=1.5.0->scrapy>=1.0.0->scrapy-selenium) (1.0.1)\n",
      "Requirement already satisfied: pyasn1-modules in /home/rfahham/projetos/web-scraping/venv/lib/python3.8/site-packages (from service-identity>=18.1.0->scrapy>=1.0.0->scrapy-selenium) (0.4.0)\n",
      "Requirement already satisfied: pyasn1 in /home/rfahham/projetos/web-scraping/venv/lib/python3.8/site-packages (from service-identity>=18.1.0->scrapy>=1.0.0->scrapy-selenium) (0.6.0)\n",
      "Requirement already satisfied: hyperlink>=17.1.1 in /home/rfahham/projetos/web-scraping/venv/lib/python3.8/site-packages (from Twisted>=18.9.0->scrapy>=1.0.0->scrapy-selenium) (21.0.0)\n",
      "Requirement already satisfied: incremental>=24.7.0 in /home/rfahham/projetos/web-scraping/venv/lib/python3.8/site-packages (from Twisted>=18.9.0->scrapy>=1.0.0->scrapy-selenium) (24.7.2)\n",
      "Requirement already satisfied: automat>=0.8.0 in /home/rfahham/projetos/web-scraping/venv/lib/python3.8/site-packages (from Twisted>=18.9.0->scrapy>=1.0.0->scrapy-selenium) (24.8.1)\n",
      "Requirement already satisfied: constantly>=15.1 in /home/rfahham/projetos/web-scraping/venv/lib/python3.8/site-packages (from Twisted>=18.9.0->scrapy>=1.0.0->scrapy-selenium) (23.10.4)\n",
      "Requirement already satisfied: cffi>=1.12; platform_python_implementation != \"PyPy\" in /home/rfahham/projetos/web-scraping/venv/lib/python3.8/site-packages (from cryptography>=36.0.0->scrapy>=1.0.0->scrapy-selenium) (1.17.1)\n",
      "Requirement already satisfied: filelock>=3.0.8 in /home/rfahham/projetos/web-scraping/venv/lib/python3.8/site-packages (from tldextract->scrapy>=1.0.0->scrapy-selenium) (3.15.4)\n",
      "Requirement already satisfied: requests-file>=1.4 in /home/rfahham/projetos/web-scraping/venv/lib/python3.8/site-packages (from tldextract->scrapy>=1.0.0->scrapy-selenium) (2.1.0)\n",
      "Requirement already satisfied: requests>=2.1.0 in /home/rfahham/projetos/web-scraping/venv/lib/python3.8/site-packages (from tldextract->scrapy>=1.0.0->scrapy-selenium) (2.32.3)\n",
      "Requirement already satisfied: h11<1,>=0.9.0 in /home/rfahham/projetos/web-scraping/venv/lib/python3.8/site-packages (from wsproto>=0.14->trio-websocket~=0.9->selenium>=3.9.0->scrapy-selenium) (0.14.0)\n",
      "Requirement already satisfied: tomli; python_version < \"3.11\" in /home/rfahham/projetos/web-scraping/venv/lib/python3.8/site-packages (from incremental>=24.7.0->Twisted>=18.9.0->scrapy>=1.0.0->scrapy-selenium) (2.0.1)\n",
      "Requirement already satisfied: pycparser in /home/rfahham/projetos/web-scraping/venv/lib/python3.8/site-packages (from cffi>=1.12; platform_python_implementation != \"PyPy\"->cryptography>=36.0.0->scrapy>=1.0.0->scrapy-selenium) (2.22)\n",
      "Requirement already satisfied: charset-normalizer<4,>=2 in /home/rfahham/projetos/web-scraping/venv/lib/python3.8/site-packages (from requests>=2.1.0->tldextract->scrapy>=1.0.0->scrapy-selenium) (3.3.2)\n",
      "Requirement already satisfied: webdriver-manager in /home/rfahham/projetos/web-scraping/venv/lib/python3.8/site-packages (4.0.2)\n",
      "Requirement already satisfied: packaging in /home/rfahham/projetos/web-scraping/venv/lib/python3.8/site-packages (from webdriver-manager) (24.1)\n",
      "Requirement already satisfied: python-dotenv in /home/rfahham/projetos/web-scraping/venv/lib/python3.8/site-packages (from webdriver-manager) (1.0.1)\n",
      "Requirement already satisfied: requests in /home/rfahham/projetos/web-scraping/venv/lib/python3.8/site-packages (from webdriver-manager) (2.32.3)\n",
      "Requirement already satisfied: charset-normalizer<4,>=2 in /home/rfahham/projetos/web-scraping/venv/lib/python3.8/site-packages (from requests->webdriver-manager) (3.3.2)\n",
      "Requirement already satisfied: idna<4,>=2.5 in /home/rfahham/projetos/web-scraping/venv/lib/python3.8/site-packages (from requests->webdriver-manager) (3.8)\n",
      "Requirement already satisfied: urllib3<3,>=1.21.1 in /home/rfahham/projetos/web-scraping/venv/lib/python3.8/site-packages (from requests->webdriver-manager) (2.2.2)\n",
      "Requirement already satisfied: certifi>=2017.4.17 in /home/rfahham/projetos/web-scraping/venv/lib/python3.8/site-packages (from requests->webdriver-manager) (2024.8.30)\n",
      "Requirement already satisfied: chromedriver-py in /home/rfahham/projetos/web-scraping/venv/lib/python3.8/site-packages (128.0.6613.119)\n"
     ]
    }
   ],
   "source": [
    "! pip install scrapy-selenium\n",
    "! pip install webdriver-manager\n",
    "! pip install chromedriver-py"
   ]
  },
  {
   "cell_type": "code",
   "execution_count": 2,
   "metadata": {},
   "outputs": [],
   "source": [
    "import scrapy\n",
    "from scrapy_selenium import SeleniumRequest\n",
    "from selenium.webdriver.common.by import By\n",
    "from selenium.webdriver.support.ui import Select"
   ]
  }
 ],
 "metadata": {
  "kernelspec": {
   "display_name": "venv",
   "language": "python",
   "name": "python3"
  },
  "language_info": {
   "codemirror_mode": {
    "name": "ipython",
    "version": 3
   },
   "file_extension": ".py",
   "mimetype": "text/x-python",
   "name": "python",
   "nbconvert_exporter": "python",
   "pygments_lexer": "ipython3",
   "version": "3.8.10"
  }
 },
 "nbformat": 4,
 "nbformat_minor": 2
}
